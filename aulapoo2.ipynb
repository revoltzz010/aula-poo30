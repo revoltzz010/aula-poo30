{
  "nbformat": 4,
  "nbformat_minor": 0,
  "metadata": {
    "colab": {
      "provenance": [],
      "authorship_tag": "ABX9TyP+RaGm1lr7nuIHSvGx/mAF",
      "include_colab_link": true
    },
    "kernelspec": {
      "name": "python3",
      "display_name": "Python 3"
    },
    "language_info": {
      "name": "python"
    }
  },
  "cells": [
    {
      "cell_type": "markdown",
      "metadata": {
        "id": "view-in-github",
        "colab_type": "text"
      },
      "source": [
        "<a href=\"https://colab.research.google.com/github/revoltzz010/aula-poo30/blob/main/aulapoo2.ipynb\" target=\"_parent\"><img src=\"https://colab.research.google.com/assets/colab-badge.svg\" alt=\"Open In Colab\"/></a>"
      ]
    },
    {
      "cell_type": "code",
      "source": [
        "F = float (input(\"Digitar o valor em graus fah: \"))\n",
        "C = (5/9) * (F - 32)\n",
        "print(f\"O valor {F}ºF Corresponde ao valor de {C}ºC\")"
      ],
      "metadata": {
        "colab": {
          "base_uri": "https://localhost:8080/"
        },
        "id": "GJCveHgHglym",
        "outputId": "c4220903-7bd6-4f43-d5d2-7f16ea39e312"
      },
      "execution_count": 9,
      "outputs": [
        {
          "output_type": "stream",
          "name": "stdout",
          "text": [
            "Digitar o valor em graus fah: 50\n",
            "O valor 50.0ºF Corresponde ao valor de 10.0ºC\n"
          ]
        }
      ]
    },
    {
      "cell_type": "code",
      "source": [
        "  º"
      ],
      "metadata": {
        "id": "uoft0GGihKH-"
      },
      "execution_count": null,
      "outputs": []
    }
  ]
}